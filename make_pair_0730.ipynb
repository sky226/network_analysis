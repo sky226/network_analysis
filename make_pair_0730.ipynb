{
 "metadata": {
  "language_info": {
   "codemirror_mode": {
    "name": "ipython",
    "version": 3
   },
   "file_extension": ".py",
   "mimetype": "text/x-python",
   "name": "python",
   "nbconvert_exporter": "python",
   "pygments_lexer": "ipython3",
   "version": "3.8.5"
  },
  "orig_nbformat": 2,
  "kernelspec": {
   "name": "python3",
   "display_name": "Python 3.8.5 64-bit"
  },
  "metadata": {
   "interpreter": {
    "hash": "57baa5815c940fdaff4d14510622de9616cae602444507ba5d0b6727c008cbd6"
   }
  },
  "interpreter": {
   "hash": "0459d36e924ddbbd26c876e661cce4fa752995d438ad948b5dbac21142d5e218"
  }
 },
 "nbformat": 4,
 "nbformat_minor": 2,
 "cells": [
  {
   "cell_type": "code",
   "execution_count": 1,
   "metadata": {},
   "outputs": [],
   "source": [
    "import numpy as np\n",
    "import pandas as pd\n",
    "import sys\n",
    "import os\n",
    "import pyodbc\n",
    "import itertools\n",
    "import collections"
   ]
  },
  {
   "cell_type": "code",
   "execution_count": 3,
   "metadata": {},
   "outputs": [
    {
     "output_type": "execute_result",
     "data": {
      "text/plain": [
       "        KEY_SEQ  GNL_NM_CD\n",
       "0  2.011000e+11       6149\n",
       "1  2.011000e+11       6149\n",
       "2  2.011000e+11       6149\n",
       "3  2.011000e+11       6149\n",
       "4  2.011000e+11       6149"
      ],
      "text/html": "<div>\n<style scoped>\n    .dataframe tbody tr th:only-of-type {\n        vertical-align: middle;\n    }\n\n    .dataframe tbody tr th {\n        vertical-align: top;\n    }\n\n    .dataframe thead th {\n        text-align: right;\n    }\n</style>\n<table border=\"1\" class=\"dataframe\">\n  <thead>\n    <tr style=\"text-align: right;\">\n      <th></th>\n      <th>KEY_SEQ</th>\n      <th>GNL_NM_CD</th>\n    </tr>\n  </thead>\n  <tbody>\n    <tr>\n      <th>0</th>\n      <td>2.011000e+11</td>\n      <td>6149</td>\n    </tr>\n    <tr>\n      <th>1</th>\n      <td>2.011000e+11</td>\n      <td>6149</td>\n    </tr>\n    <tr>\n      <th>2</th>\n      <td>2.011000e+11</td>\n      <td>6149</td>\n    </tr>\n    <tr>\n      <th>3</th>\n      <td>2.011000e+11</td>\n      <td>6149</td>\n    </tr>\n    <tr>\n      <th>4</th>\n      <td>2.011000e+11</td>\n      <td>6149</td>\n    </tr>\n  </tbody>\n</table>\n</div>"
     },
     "metadata": {},
     "execution_count": 3
    }
   ],
   "source": [
    "#test=pd.read_csv(\"C:/Users/JohnKim_PC/Downloads/db_over65_2011.csv\", delimiter = ',', names=[\"KEY_SEQ\",\"GNL_NM_CD\"], header =None)\n",
    "test=pd.read_csv(\"C:/Users/JohnKim_PC/Downloads/db_over65_2011.csv\", delimiter = ',')\n",
    "a= 'over65'\n",
    "b= 2011\n",
    "test.head()\n",
    "#test=test[['KEY_sEQ','GNL_NM_CD']]"
   ]
  },
  {
   "cell_type": "code",
   "execution_count": 4,
   "metadata": {},
   "outputs": [],
   "source": [
    "#groupby\n",
    "test=test.groupby(['KEY_SEQ'])[\"GNL_NM_CD\"].apply(list)\n",
    "combi_list =[list(itertools.combinations (x,2)) for x in test if len(x) >1 ]\n",
    "#flatten list \n",
    "combi =[ pair for sublist in combi_list for pair in sublist ]\n",
    "del test\n",
    "del combi_list\n",
    "#list to dataframe \n",
    "df=pd.DataFrame(combi, columns=['drug1',\"drug2\"])\n",
    "df[[\"drug1\",\"drug2\"]]=df[[\"drug1\",\"drug2\"]].apply(pd.to_numeric)\n",
    "df['bb']=df[\"drug1\"]-df[\"drug2\"]\n",
    "p = df.query(\"bb>0\")\n",
    "n=df.query(\"bb< 0\")\n",
    "n.columns=[\"drug2\",\"drug1\",\"bb\"]\n",
    "t= p.append(n)\n",
    "del df \n",
    "del p\n",
    "del n\n",
    "t.drop(['bb'], axis=1, inplace=True)"
   ]
  },
  {
   "cell_type": "code",
   "execution_count": null,
   "metadata": {},
   "outputs": [],
   "source": [
    "#count unique value\n",
    "counts=t.value_counts()\n",
    "df_counts=pd.DataFrame(counts, columns=['count'])\n",
    "name=df_counts.index.to_frame()\n",
    "df=pd.concat([name, df_counts], axis=1, join='outer')\n",
    "df.reset_index(drop=True, inplace=True)\n",
    "df\n"
   ]
  },
  {
   "cell_type": "code",
   "execution_count": null,
   "metadata": {},
   "outputs": [],
   "source": [
    "df.to_csv(\"pair_{}_{}.csv\".format(a,b))\n",
    "del t \n",
    "del combi\n",
    "del df_counts\n",
    "del name"
   ]
  },
  {
   "cell_type": "code",
   "execution_count": 5,
   "metadata": {},
   "outputs": [
    {
     "output_type": "error",
     "ename": "MemoryError",
     "evalue": "",
     "traceback": [
      "\u001b[1;31m---------------------------------------------------------------------------\u001b[0m",
      "\u001b[1;31mMemoryError\u001b[0m                               Traceback (most recent call last)",
      "\u001b[1;32m<ipython-input-5-fa30d83fcc4a>\u001b[0m in \u001b[0;36m<module>\u001b[1;34m\u001b[0m\n\u001b[0;32m      1\u001b[0m \u001b[1;31m## 각 리스트내 조합(combination) 생성\u001b[0m\u001b[1;33m\u001b[0m\u001b[1;33m\u001b[0m\u001b[1;33m\u001b[0m\u001b[0m\n\u001b[0;32m      2\u001b[0m \u001b[1;31m# 약물 2개 이상인 경우만\u001b[0m\u001b[1;33m\u001b[0m\u001b[1;33m\u001b[0m\u001b[1;33m\u001b[0m\u001b[0m\n\u001b[1;32m----> 3\u001b[1;33m \u001b[0mcombi_list\u001b[0m \u001b[1;33m=\u001b[0m\u001b[1;33m[\u001b[0m\u001b[0mlist\u001b[0m\u001b[1;33m(\u001b[0m\u001b[0mitertools\u001b[0m\u001b[1;33m.\u001b[0m\u001b[0mcombinations\u001b[0m \u001b[1;33m(\u001b[0m\u001b[0mx\u001b[0m\u001b[1;33m,\u001b[0m\u001b[1;36m2\u001b[0m\u001b[1;33m)\u001b[0m\u001b[1;33m)\u001b[0m \u001b[1;32mfor\u001b[0m \u001b[0mx\u001b[0m \u001b[1;32min\u001b[0m \u001b[0mtest\u001b[0m\u001b[1;33m.\u001b[0m\u001b[0mtolist\u001b[0m\u001b[1;33m(\u001b[0m\u001b[1;33m)\u001b[0m \u001b[1;32mif\u001b[0m \u001b[0mlen\u001b[0m\u001b[1;33m(\u001b[0m\u001b[0mx\u001b[0m\u001b[1;33m)\u001b[0m \u001b[1;33m>\u001b[0m\u001b[1;36m1\u001b[0m \u001b[1;33m]\u001b[0m\u001b[1;33m\u001b[0m\u001b[1;33m\u001b[0m\u001b[0m\n\u001b[0m",
      "\u001b[1;32m<ipython-input-5-fa30d83fcc4a>\u001b[0m in \u001b[0;36m<listcomp>\u001b[1;34m(.0)\u001b[0m\n\u001b[0;32m      1\u001b[0m \u001b[1;31m## 각 리스트내 조합(combination) 생성\u001b[0m\u001b[1;33m\u001b[0m\u001b[1;33m\u001b[0m\u001b[1;33m\u001b[0m\u001b[0m\n\u001b[0;32m      2\u001b[0m \u001b[1;31m# 약물 2개 이상인 경우만\u001b[0m\u001b[1;33m\u001b[0m\u001b[1;33m\u001b[0m\u001b[1;33m\u001b[0m\u001b[0m\n\u001b[1;32m----> 3\u001b[1;33m \u001b[0mcombi_list\u001b[0m \u001b[1;33m=\u001b[0m\u001b[1;33m[\u001b[0m\u001b[0mlist\u001b[0m\u001b[1;33m(\u001b[0m\u001b[0mitertools\u001b[0m\u001b[1;33m.\u001b[0m\u001b[0mcombinations\u001b[0m \u001b[1;33m(\u001b[0m\u001b[0mx\u001b[0m\u001b[1;33m,\u001b[0m\u001b[1;36m2\u001b[0m\u001b[1;33m)\u001b[0m\u001b[1;33m)\u001b[0m \u001b[1;32mfor\u001b[0m \u001b[0mx\u001b[0m \u001b[1;32min\u001b[0m \u001b[0mtest\u001b[0m\u001b[1;33m.\u001b[0m\u001b[0mtolist\u001b[0m\u001b[1;33m(\u001b[0m\u001b[1;33m)\u001b[0m \u001b[1;32mif\u001b[0m \u001b[0mlen\u001b[0m\u001b[1;33m(\u001b[0m\u001b[0mx\u001b[0m\u001b[1;33m)\u001b[0m \u001b[1;33m>\u001b[0m\u001b[1;36m1\u001b[0m \u001b[1;33m]\u001b[0m\u001b[1;33m\u001b[0m\u001b[1;33m\u001b[0m\u001b[0m\n\u001b[0m",
      "\u001b[1;31mMemoryError\u001b[0m: "
     ]
    }
   ],
   "source": [
    "#예전 코드: 중복되는 data확인 \n",
    "## 각 리스트내 조합(combination) 생성\n",
    "# 약물 2개 이상인 경우만 \n",
    "combi_list =[list(itertools.combinations (x,2)) for x in test  if len(x) >1 ]\n",
    "combi= [ pair for sublist in combi_list for pair in sublist]\n",
    "## 약물 쌍 list- 중복없음. \n",
    "drug_list =[ (x, y) if x > y else(y,x) for l  in combi_list for x, y in l ]"
   ]
  },
  {
   "cell_type": "code",
   "execution_count": 13,
   "metadata": {},
   "outputs": [],
   "source": [
    "df.to_csv(\"C:/Users/JohnKim_PC/Downloads/2013/pair/pair_under65_2013.csv\")"
   ]
  },
  {
   "cell_type": "code",
   "execution_count": 164,
   "metadata": {},
   "outputs": [],
   "source": [
    "#drug1, drug2를 문자열로 바꾸기. \n",
    "df[\"drug1\"]=df[\"drug1\"].astype(str)\n",
    "df[\"drug2\"]=df[\"drug2\"].astype(str)\n",
    "df.dtypes\n",
    "df.to_csv(\"C:\\github\\R\\sql\\sql-\\ for_cytoscape.csv\")"
   ]
  }
 ]
}