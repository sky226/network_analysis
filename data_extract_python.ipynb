{
 "metadata": {
  "language_info": {
   "codemirror_mode": {
    "name": "ipython",
    "version": 3
   },
   "file_extension": ".py",
   "mimetype": "text/x-python",
   "name": "python",
   "nbconvert_exporter": "python",
   "pygments_lexer": "ipython3",
   "version": "3.7.1-final"
  },
  "orig_nbformat": 2,
  "kernelspec": {
   "name": "python3",
   "display_name": "Python 3",
   "language": "python"
  }
 },
 "nbformat": 4,
 "nbformat_minor": 2,
 "cells": [
  {
   "cell_type": "code",
   "execution_count": 97,
   "metadata": {},
   "outputs": [],
   "source": [
    "import numpy as np\n",
    "import pandas as pd\n",
    "import sys\n",
    "import os\n",
    "import pyodbc\n",
    "import itertools\n",
    "import collections"
   ]
  },
  {
   "cell_type": "code",
   "execution_count": 1,
   "metadata": {},
   "outputs": [
    {
     "output_type": "execute_result",
     "data": {
      "text/plain": [
       "'c:\\\\github\\\\R\\\\python'"
      ]
     },
     "metadata": {},
     "execution_count": 1
    }
   ],
   "source": [
    "os.getcwd()"
   ]
  },
  {
   "cell_type": "code",
   "execution_count": 8,
   "metadata": {},
   "outputs": [
    {
     "output_type": "execute_result",
     "data": {
      "text/plain": [
       "         ID  DRUG  ROW\n",
       "0  10000101  1125    1\n",
       "1  10000101  2718    1\n",
       "2  10000101  2356    1\n",
       "3  10000101  1525    1\n",
       "4  10000101  1513    1"
      ],
      "text/html": "<div>\n<style scoped>\n    .dataframe tbody tr th:only-of-type {\n        vertical-align: middle;\n    }\n\n    .dataframe tbody tr th {\n        vertical-align: top;\n    }\n\n    .dataframe thead th {\n        text-align: right;\n    }\n</style>\n<table border=\"1\" class=\"dataframe\">\n  <thead>\n    <tr style=\"text-align: right;\">\n      <th></th>\n      <th>ID</th>\n      <th>DRUG</th>\n      <th>ROW</th>\n    </tr>\n  </thead>\n  <tbody>\n    <tr>\n      <th>0</th>\n      <td>10000101</td>\n      <td>1125</td>\n      <td>1</td>\n    </tr>\n    <tr>\n      <th>1</th>\n      <td>10000101</td>\n      <td>2718</td>\n      <td>1</td>\n    </tr>\n    <tr>\n      <th>2</th>\n      <td>10000101</td>\n      <td>2356</td>\n      <td>1</td>\n    </tr>\n    <tr>\n      <th>3</th>\n      <td>10000101</td>\n      <td>1525</td>\n      <td>1</td>\n    </tr>\n    <tr>\n      <th>4</th>\n      <td>10000101</td>\n      <td>1513</td>\n      <td>1</td>\n    </tr>\n  </tbody>\n</table>\n</div>"
     },
     "metadata": {},
     "execution_count": 8
    }
   ],
   "source": [
    "test=pd.read_csv(\"C:\\github\\R\\sql\\sql-\\TEST.xls\", header =None, names=[\"ID\",\"DRUG\",\"ROW\"])\n",
    "test.head()"
   ]
  },
  {
   "cell_type": "code",
   "execution_count": 35,
   "metadata": {},
   "outputs": [],
   "source": [
    "## id내 , row별 로 drug list를 뽑기 \n",
    "test2=test.set_index([\"ID\",\"ROW\"])\n",
    "test3= test2.groupby([\"ID\",\"ROW\"])[\"DRUG\"].apply(list) \n",
    "test=test3.to_frame()"
   ]
  },
  {
   "cell_type": "code",
   "execution_count": 134,
   "metadata": {},
   "outputs": [],
   "source": [
    "## 각 리스트내 조합(combination) 생성\n",
    "# 약물 2개 이상인 경우만 \n",
    "combi_list =[list(itertools.combinations (x,2)) for x in test3.tolist() if len(x) >1 ]\n",
    "## 약물 쌍 list- 중복없음. \n",
    "drug_list =[ (x, y) if x> y else(y,x) for l  in combi_list for x, y in l ]"
   ]
  },
  {
   "cell_type": "code",
   "execution_count": 157,
   "metadata": {},
   "outputs": [
    {
     "output_type": "execute_result",
     "data": {
      "text/plain": [
       "     drug1  drug2  count\n",
       "0     2718   1125      5\n",
       "1     2356   1125      3\n",
       "2     1525   1125      5\n",
       "3     1513   1125      5\n",
       "4     2718   2356      3\n",
       "..     ...    ...    ...\n",
       "101   1612   1014      1\n",
       "102   1333   1052      1\n",
       "103   2121   1333      1\n",
       "104   2121   1052      1\n",
       "105   2403   2228      1\n",
       "\n",
       "[106 rows x 3 columns]"
      ],
      "text/html": "<div>\n<style scoped>\n    .dataframe tbody tr th:only-of-type {\n        vertical-align: middle;\n    }\n\n    .dataframe tbody tr th {\n        vertical-align: top;\n    }\n\n    .dataframe thead th {\n        text-align: right;\n    }\n</style>\n<table border=\"1\" class=\"dataframe\">\n  <thead>\n    <tr style=\"text-align: right;\">\n      <th></th>\n      <th>drug1</th>\n      <th>drug2</th>\n      <th>count</th>\n    </tr>\n  </thead>\n  <tbody>\n    <tr>\n      <th>0</th>\n      <td>2718</td>\n      <td>1125</td>\n      <td>5</td>\n    </tr>\n    <tr>\n      <th>1</th>\n      <td>2356</td>\n      <td>1125</td>\n      <td>3</td>\n    </tr>\n    <tr>\n      <th>2</th>\n      <td>1525</td>\n      <td>1125</td>\n      <td>5</td>\n    </tr>\n    <tr>\n      <th>3</th>\n      <td>1513</td>\n      <td>1125</td>\n      <td>5</td>\n    </tr>\n    <tr>\n      <th>4</th>\n      <td>2718</td>\n      <td>2356</td>\n      <td>3</td>\n    </tr>\n    <tr>\n      <th>...</th>\n      <td>...</td>\n      <td>...</td>\n      <td>...</td>\n    </tr>\n    <tr>\n      <th>101</th>\n      <td>1612</td>\n      <td>1014</td>\n      <td>1</td>\n    </tr>\n    <tr>\n      <th>102</th>\n      <td>1333</td>\n      <td>1052</td>\n      <td>1</td>\n    </tr>\n    <tr>\n      <th>103</th>\n      <td>2121</td>\n      <td>1333</td>\n      <td>1</td>\n    </tr>\n    <tr>\n      <th>104</th>\n      <td>2121</td>\n      <td>1052</td>\n      <td>1</td>\n    </tr>\n    <tr>\n      <th>105</th>\n      <td>2403</td>\n      <td>2228</td>\n      <td>1</td>\n    </tr>\n  </tbody>\n</table>\n<p>106 rows × 3 columns</p>\n</div>"
     },
     "metadata": {},
     "execution_count": 157
    }
   ],
   "source": [
    "#dataframe 형성. \n",
    "a=collections.Counter(drug_list)\n",
    "df=pd.DataFrame.from_dict(a.keys())\n",
    "df.columns=[\"drug1\",\"drug2\"]\n",
    "df[\"count\"]=a.values()\n",
    "df"
   ]
  },
  {
   "cell_type": "code",
   "execution_count": 164,
   "metadata": {},
   "outputs": [],
   "source": [
    "#drug1, drug2를 문자열로 바꾸기. \n",
    "df[\"drug1\"]=df[\"drug1\"].astype(str)\n",
    "df[\"drug2\"]=df[\"drug2\"].astype(str)\n",
    "df.dtypes\n",
    "df.to_csv(\"C:\\github\\R\\sql\\sql-\\ for_cytoscape.csv\")"
   ]
  }
 ]
}